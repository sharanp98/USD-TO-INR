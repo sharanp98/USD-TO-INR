{
 "cells": [
  {
   "cell_type": "code",
   "execution_count": 1,
   "metadata": {},
   "outputs": [],
   "source": [
    "import pandas as pd"
   ]
  },
  {
   "cell_type": "markdown",
   "metadata": {},
   "source": [
    "## DATA OVERVIEW\n"
   ]
  },
  {
   "cell_type": "code",
   "execution_count": 2,
   "metadata": {},
   "outputs": [
    {
     "data": {
      "text/html": [
       "<div>\n",
       "<style scoped>\n",
       "    .dataframe tbody tr th:only-of-type {\n",
       "        vertical-align: middle;\n",
       "    }\n",
       "\n",
       "    .dataframe tbody tr th {\n",
       "        vertical-align: top;\n",
       "    }\n",
       "\n",
       "    .dataframe thead th {\n",
       "        text-align: right;\n",
       "    }\n",
       "</style>\n",
       "<table border=\"1\" class=\"dataframe\">\n",
       "  <thead>\n",
       "    <tr style=\"text-align: right;\">\n",
       "      <th></th>\n",
       "      <th>Date</th>\n",
       "      <th>Price</th>\n",
       "      <th>Open</th>\n",
       "      <th>High</th>\n",
       "      <th>Low</th>\n",
       "    </tr>\n",
       "  </thead>\n",
       "  <tbody>\n",
       "    <tr>\n",
       "      <th>0</th>\n",
       "      <td>Sep 14, 2018</td>\n",
       "      <td>71.880</td>\n",
       "      <td>71.700</td>\n",
       "      <td>71.995</td>\n",
       "      <td>71.535</td>\n",
       "    </tr>\n",
       "    <tr>\n",
       "      <th>1</th>\n",
       "      <td>Sep 17, 2018</td>\n",
       "      <td>72.540</td>\n",
       "      <td>72.530</td>\n",
       "      <td>72.695</td>\n",
       "      <td>72.315</td>\n",
       "    </tr>\n",
       "    <tr>\n",
       "      <th>2</th>\n",
       "      <td>Sep 18, 2018</td>\n",
       "      <td>72.710</td>\n",
       "      <td>72.560</td>\n",
       "      <td>72.990</td>\n",
       "      <td>72.360</td>\n",
       "    </tr>\n",
       "    <tr>\n",
       "      <th>3</th>\n",
       "      <td>Sep 19, 2018</td>\n",
       "      <td>72.360</td>\n",
       "      <td>72.720</td>\n",
       "      <td>72.875</td>\n",
       "      <td>72.345</td>\n",
       "    </tr>\n",
       "    <tr>\n",
       "      <th>4</th>\n",
       "      <td>Sep 20, 2018</td>\n",
       "      <td>72.015</td>\n",
       "      <td>72.345</td>\n",
       "      <td>72.345</td>\n",
       "      <td>72.015</td>\n",
       "    </tr>\n",
       "  </tbody>\n",
       "</table>\n",
       "</div>"
      ],
      "text/plain": [
       "           Date   Price    Open    High     Low\n",
       "0  Sep 14, 2018  71.880  71.700  71.995  71.535\n",
       "1  Sep 17, 2018  72.540  72.530  72.695  72.315\n",
       "2  Sep 18, 2018  72.710  72.560  72.990  72.360\n",
       "3  Sep 19, 2018  72.360  72.720  72.875  72.345\n",
       "4  Sep 20, 2018  72.015  72.345  72.345  72.015"
      ]
     },
     "execution_count": 2,
     "metadata": {},
     "output_type": "execute_result"
    }
   ],
   "source": [
    "data = pd.read_csv(\"usdinr.csv\")\n",
    "data.head()"
   ]
  },
  {
   "cell_type": "code",
   "execution_count": 3,
   "metadata": {},
   "outputs": [
    {
     "name": "stdout",
     "output_type": "stream",
     "text": [
      "<class 'pandas.core.frame.DataFrame'>\n",
      "RangeIndex: 261 entries, 0 to 260\n",
      "Data columns (total 5 columns):\n",
      "Date     261 non-null object\n",
      "Price    261 non-null float64\n",
      "Open     261 non-null float64\n",
      "High     261 non-null float64\n",
      "Low      261 non-null float64\n",
      "dtypes: float64(4), object(1)\n",
      "memory usage: 10.3+ KB\n"
     ]
    }
   ],
   "source": [
    "data.info()"
   ]
  },
  {
   "cell_type": "markdown",
   "metadata": {},
   "source": [
    "## Data Preprocessing"
   ]
  },
  {
   "cell_type": "code",
   "execution_count": 4,
   "metadata": {},
   "outputs": [],
   "source": [
    "import datetime \n",
    "\n",
    "# Converting date to correct format.\n",
    "\n",
    "def handle_date(date):\n",
    "    entity_list = date.split(' ')\n",
    "    \n",
    "    entity_list[1] = entity_list[1][0:2]\n",
    "    date_string = entity_list[0] + ' ' + entity_list[1] + ' ' + entity_list[2]\n",
    "    datetime_object = datetime.datetime.strptime(date_string, '%b %d %Y')\n",
    "    return datetime_object\n",
    "\n",
    "\n",
    "data['Date']=data['Date'].apply(lambda date : handle_date(date) )"
   ]
  },
  {
   "cell_type": "code",
   "execution_count": 5,
   "metadata": {},
   "outputs": [
    {
     "data": {
      "text/html": [
       "<div>\n",
       "<style scoped>\n",
       "    .dataframe tbody tr th:only-of-type {\n",
       "        vertical-align: middle;\n",
       "    }\n",
       "\n",
       "    .dataframe tbody tr th {\n",
       "        vertical-align: top;\n",
       "    }\n",
       "\n",
       "    .dataframe thead th {\n",
       "        text-align: right;\n",
       "    }\n",
       "</style>\n",
       "<table border=\"1\" class=\"dataframe\">\n",
       "  <thead>\n",
       "    <tr style=\"text-align: right;\">\n",
       "      <th></th>\n",
       "      <th>Date</th>\n",
       "      <th>Price</th>\n",
       "      <th>Open</th>\n",
       "      <th>High</th>\n",
       "      <th>Low</th>\n",
       "    </tr>\n",
       "  </thead>\n",
       "  <tbody>\n",
       "    <tr>\n",
       "      <th>0</th>\n",
       "      <td>2018-09-14</td>\n",
       "      <td>71.880</td>\n",
       "      <td>71.700</td>\n",
       "      <td>71.995</td>\n",
       "      <td>71.535</td>\n",
       "    </tr>\n",
       "    <tr>\n",
       "      <th>1</th>\n",
       "      <td>2018-09-17</td>\n",
       "      <td>72.540</td>\n",
       "      <td>72.530</td>\n",
       "      <td>72.695</td>\n",
       "      <td>72.315</td>\n",
       "    </tr>\n",
       "    <tr>\n",
       "      <th>2</th>\n",
       "      <td>2018-09-18</td>\n",
       "      <td>72.710</td>\n",
       "      <td>72.560</td>\n",
       "      <td>72.990</td>\n",
       "      <td>72.360</td>\n",
       "    </tr>\n",
       "    <tr>\n",
       "      <th>3</th>\n",
       "      <td>2018-09-19</td>\n",
       "      <td>72.360</td>\n",
       "      <td>72.720</td>\n",
       "      <td>72.875</td>\n",
       "      <td>72.345</td>\n",
       "    </tr>\n",
       "    <tr>\n",
       "      <th>4</th>\n",
       "      <td>2018-09-20</td>\n",
       "      <td>72.015</td>\n",
       "      <td>72.345</td>\n",
       "      <td>72.345</td>\n",
       "      <td>72.015</td>\n",
       "    </tr>\n",
       "  </tbody>\n",
       "</table>\n",
       "</div>"
      ],
      "text/plain": [
       "        Date   Price    Open    High     Low\n",
       "0 2018-09-14  71.880  71.700  71.995  71.535\n",
       "1 2018-09-17  72.540  72.530  72.695  72.315\n",
       "2 2018-09-18  72.710  72.560  72.990  72.360\n",
       "3 2018-09-19  72.360  72.720  72.875  72.345\n",
       "4 2018-09-20  72.015  72.345  72.345  72.015"
      ]
     },
     "execution_count": 5,
     "metadata": {},
     "output_type": "execute_result"
    }
   ],
   "source": [
    "data.head()"
   ]
  },
  {
   "cell_type": "code",
   "execution_count": 6,
   "metadata": {},
   "outputs": [
    {
     "data": {
      "text/plain": [
       "<matplotlib.axes._subplots.AxesSubplot at 0x7ff49760c898>"
      ]
     },
     "execution_count": 6,
     "metadata": {},
     "output_type": "execute_result"
    },
    {
     "data": {
      "image/png": "[encoded data removed]",
      "text/plain": [
       "<Figure size 720x288 with 1 Axes>"
      ]
     },
     "metadata": {
      "needs_background": "light"
     },
     "output_type": "display_data"
    }
   ],
   "source": [
    "%matplotlib inline\n",
    "data.plot(x='Date', y='Price', figsize=(10,4))\n"
   ]
  },
  {
   "cell_type": "markdown",
   "metadata": {},
   "source": [
    "Applying normmalization to close price using min max normalization"
   ]
  },
  {
   "cell_type": "code",
   "execution_count": 7,
   "metadata": {},
   "outputs": [],
   "source": [
    "data['Price'] =  ( data['Price'] - data['Price'].min() ) / (data['Price'].max() - data['Price'].min())"
   ]
  },
  {
   "cell_type": "code",
   "execution_count": 8,
   "metadata": {},
   "outputs": [
    {
     "data": {
      "text/html": [
       "<div>\n",
       "<style scoped>\n",
       "    .dataframe tbody tr th:only-of-type {\n",
       "        vertical-align: middle;\n",
       "    }\n",
       "\n",
       "    .dataframe tbody tr th {\n",
       "        vertical-align: top;\n",
       "    }\n",
       "\n",
       "    .dataframe thead th {\n",
       "        text-align: right;\n",
       "    }\n",
       "</style>\n",
       "<table border=\"1\" class=\"dataframe\">\n",
       "  <thead>\n",
       "    <tr style=\"text-align: right;\">\n",
       "      <th></th>\n",
       "      <th>Date</th>\n",
       "      <th>Price</th>\n",
       "      <th>Open</th>\n",
       "      <th>High</th>\n",
       "      <th>Low</th>\n",
       "    </tr>\n",
       "  </thead>\n",
       "  <tbody>\n",
       "    <tr>\n",
       "      <th>0</th>\n",
       "      <td>2018-09-14</td>\n",
       "      <td>0.585160</td>\n",
       "      <td>71.700</td>\n",
       "      <td>71.995</td>\n",
       "      <td>71.535</td>\n",
       "    </tr>\n",
       "    <tr>\n",
       "      <th>1</th>\n",
       "      <td>2018-09-17</td>\n",
       "      <td>0.696459</td>\n",
       "      <td>72.530</td>\n",
       "      <td>72.695</td>\n",
       "      <td>72.315</td>\n",
       "    </tr>\n",
       "    <tr>\n",
       "      <th>2</th>\n",
       "      <td>2018-09-18</td>\n",
       "      <td>0.725126</td>\n",
       "      <td>72.560</td>\n",
       "      <td>72.990</td>\n",
       "      <td>72.360</td>\n",
       "    </tr>\n",
       "    <tr>\n",
       "      <th>3</th>\n",
       "      <td>2018-09-19</td>\n",
       "      <td>0.666105</td>\n",
       "      <td>72.720</td>\n",
       "      <td>72.875</td>\n",
       "      <td>72.345</td>\n",
       "    </tr>\n",
       "    <tr>\n",
       "      <th>4</th>\n",
       "      <td>2018-09-20</td>\n",
       "      <td>0.607926</td>\n",
       "      <td>72.345</td>\n",
       "      <td>72.345</td>\n",
       "      <td>72.015</td>\n",
       "    </tr>\n",
       "  </tbody>\n",
       "</table>\n",
       "</div>"
      ],
      "text/plain": [
       "        Date     Price    Open    High     Low\n",
       "0 2018-09-14  0.585160  71.700  71.995  71.535\n",
       "1 2018-09-17  0.696459  72.530  72.695  72.315\n",
       "2 2018-09-18  0.725126  72.560  72.990  72.360\n",
       "3 2018-09-19  0.666105  72.720  72.875  72.345\n",
       "4 2018-09-20  0.607926  72.345  72.345  72.015"
      ]
     },
     "execution_count": 8,
     "metadata": {},
     "output_type": "execute_result"
    }
   ],
   "source": [
    "data.head()"
   ]
  },
  {
   "cell_type": "code",
   "execution_count": 9,
   "metadata": {},
   "outputs": [
    {
     "data": {
      "text/plain": [
       "<matplotlib.axes._subplots.AxesSubplot at 0x7ff49551cbe0>"
      ]
     },
     "execution_count": 9,
     "metadata": {},
     "output_type": "execute_result"
    },
    {
     "data": {
      "image/png": "[encoded data removed]",
      "text/plain": [
       "<Figure size 720x288 with 1 Axes>"
      ]
     },
     "metadata": {
      "needs_background": "light"
     },
     "output_type": "display_data"
    }
   ],
   "source": [
    "data.plot(x='Date', y='Price', figsize=(10,4))"
   ]
  },
  {
   "cell_type": "code",
   "execution_count": 10,
   "metadata": {},
   "outputs": [],
   "source": [
    "import torch \n",
    "from torch import nn\n",
    "\n",
    "class RNN(nn.Module):\n",
    "    \n",
    "    def __init__(self,input_dim,hidden_dim,output_dim,n_layers):\n",
    "        \n",
    "        super(RNN,self).__init__()\n",
    "        \n",
    "        self.rnn = nn.RNN(input_dim,hidden_dim,n_layers,batch_first=True)\n",
    "        \n",
    "        self.hidden_size = hidden_dim\n",
    "        \n",
    "        self.linear = nn.Linear(hidden_dim,output_dim)\n",
    "        \n",
    "        \n",
    "        \n",
    "    def forward(self,x,hidden):\n",
    "        \n",
    "        batch_size = x.size(0)\n",
    "        r_out , hidden = self.rnn(x,hidden)\n",
    "        \n",
    "        r_out = r_out.view(-1,self.hidden_size)\n",
    "        \n",
    "        output = self.linear(r_out)\n",
    "        \n",
    "        return output,hidden\n",
    "        "
   ]
  },
  {
   "cell_type": "code",
   "execution_count": 11,
   "metadata": {
    "scrolled": true
   },
   "outputs": [
    {
     "name": "stdout",
     "output_type": "stream",
     "text": [
      "RNN(\n",
      "  (rnn): RNN(1, 32, batch_first=True)\n",
      "  (linear): Linear(in_features=32, out_features=1, bias=True)\n",
      ")\n"
     ]
    }
   ],
   "source": [
    "input_size = 1\n",
    "output_size =1\n",
    "hidden_size=32\n",
    "n_layers=1\n",
    "\n",
    "rnn = RNN(input_size,hidden_size,output_size,n_layers)\n",
    "print(rnn)"
   ]
  },
  {
   "cell_type": "code",
   "execution_count": 12,
   "metadata": {},
   "outputs": [],
   "source": [
    "criterion = nn.MSELoss()\n",
    "optimizer = torch.optim.Adam(rnn.parameters(), lr=0.01)"
   ]
  },
  {
   "cell_type": "code",
   "execution_count": 13,
   "metadata": {},
   "outputs": [],
   "source": [
    "prices = data['Price'].to_numpy()\n",
    "prices = prices.reshape(-1,1)"
   ]
  },
  {
   "cell_type": "code",
   "execution_count": 14,
   "metadata": {},
   "outputs": [
    {
     "data": {
      "text/plain": [
       "array([[0.5851602 ],\n",
       "       [0.69645868],\n",
       "       [0.72512648],\n",
       "       [0.66610455],\n",
       "       [0.6079258 ],\n",
       "       [0.64586847],\n",
       "       [0.71838111],\n",
       "       [0.72091062],\n",
       "       [0.70657673],\n",
       "       [0.70151771],\n",
       "       [0.69139966],\n",
       "       [0.7613828 ],\n",
       "       [0.7613828 ],\n",
       "       [0.83220911],\n",
       "       [0.88026981]])"
      ]
     },
     "execution_count": 14,
     "metadata": {},
     "output_type": "execute_result"
    }
   ],
   "source": [
    "prices[0:15]"
   ]
  },
  {
   "cell_type": "code",
   "execution_count": 15,
   "metadata": {},
   "outputs": [
    {
     "data": {
      "text/plain": [
       "182"
      ]
     },
     "execution_count": 15,
     "metadata": {},
     "output_type": "execute_result"
    }
   ],
   "source": [
    "split_idx = int(0.7*len(prices))\n",
    "split_idx"
   ]
  },
  {
   "cell_type": "code",
   "execution_count": 16,
   "metadata": {
    "scrolled": true
   },
   "outputs": [
    {
     "data": {
      "text/plain": [
       "array([[0.5851602 , 0.69645868, 0.72512648, ..., 0.7613828 , 0.83220911,\n",
       "        0.88026981],\n",
       "       [0.69645868, 0.72512648, 0.66610455, ..., 0.83220911, 0.88026981,\n",
       "        0.90387858],\n",
       "       [0.72512648, 0.66610455, 0.6079258 , ..., 0.88026981, 0.90387858,\n",
       "        0.95362563],\n",
       "       ...,\n",
       "       [0.16863406, 0.11551433, 0.16357504, ..., 0.20219224, 0.20826307,\n",
       "        0.20910624],\n",
       "       [0.11551433, 0.16357504, 0.20826307, ..., 0.20826307, 0.20910624,\n",
       "        0.21163575],\n",
       "       [0.16357504, 0.20826307, 0.22091062, ..., 0.20910624, 0.21163575,\n",
       "        0.16357504]])"
      ]
     },
     "execution_count": 16,
     "metadata": {},
     "output_type": "execute_result"
    }
   ],
   "source": [
    "import numpy as np\n",
    "\n",
    "seq_length = 15\n",
    "X_train = []\n",
    "y_train =[] \n",
    "\n",
    "for i in range(seq_length, split_idx):\n",
    "    \n",
    "    X_train.append(prices[(i-seq_length):i,0])\n",
    "    y_train.append(prices[i,0])\n",
    "\n",
    "X_train, y_train = np.array(X_train), np.array(y_train)\n",
    "X_train\n",
    "\n",
    "    "
   ]
  },
  {
   "cell_type": "code",
   "execution_count": 17,
   "metadata": {
    "scrolled": true
   },
   "outputs": [
    {
     "data": {
      "text/plain": [
       "torch.Size([1, 15, 1])"
      ]
     },
     "execution_count": 17,
     "metadata": {},
     "output_type": "execute_result"
    }
   ],
   "source": [
    "sample = X_train[0].reshape((seq_length,1))\n",
    "sample = torch.Tensor(sample).unsqueeze(0)\n",
    "sample.shape"
   ]
  },
  {
   "cell_type": "code",
   "execution_count": 18,
   "metadata": {
    "scrolled": true
   },
   "outputs": [
    {
     "data": {
      "text/plain": [
       "array([[0.5851602 ],\n",
       "       [0.69645868],\n",
       "       [0.72512648],\n",
       "       [0.66610455],\n",
       "       [0.6079258 ],\n",
       "       [0.64586847],\n",
       "       [0.71838111],\n",
       "       [0.72091062],\n",
       "       [0.70657673],\n",
       "       [0.70151771],\n",
       "       [0.69139966],\n",
       "       [0.7613828 ],\n",
       "       [0.7613828 ],\n",
       "       [0.83220911],\n",
       "       [0.88026981]])"
      ]
     },
     "execution_count": 18,
     "metadata": {},
     "output_type": "execute_result"
    }
   ],
   "source": [
    "sample = X_train[0].reshape((seq_length,1))\n",
    "sample\n"
   ]
  },
  {
   "cell_type": "code",
   "execution_count": 19,
   "metadata": {},
   "outputs": [
    {
     "data": {
      "text/plain": [
       "(15, 1)"
      ]
     },
     "execution_count": 19,
     "metadata": {},
     "output_type": "execute_result"
    }
   ],
   "source": [
    "X =X_train[1]\n",
    "X.resize((seq_length,1))\n",
    "X.shape"
   ]
  },
  {
   "cell_type": "code",
   "execution_count": 20,
   "metadata": {
    "scrolled": true
   },
   "outputs": [
    {
     "name": "stdout",
     "output_type": "stream",
     "text": [
      "(14, 1)\n",
      "(14, 1)\n",
      "torch.Size([1, 14, 1])\n",
      "torch.Size([14, 1])\n",
      "torch.Size([14, 1])\n"
     ]
    },
    {
     "data": {
      "text/plain": [
       "tensor(0.5310, grad_fn=<MseLossBackward>)"
      ]
     },
     "execution_count": 20,
     "metadata": {},
     "output_type": "execute_result"
    }
   ],
   "source": [
    "x_tensor= X [ : -1]\n",
    "y_tensor = X[ 1: ]\n",
    "\n",
    "\n",
    "print(x_tensor.shape)\n",
    "print(y_tensor.shape)\n",
    "\n",
    "x_tensor = torch.Tensor(x_tensor).unsqueeze(0)\n",
    "\n",
    "print(x_tensor.shape)\n",
    "y_tensor = torch.Tensor(y_tensor)\n",
    "print(y_tensor.shape)\n",
    "\n",
    "output , hidden = rnn(x_tensor,None)\n",
    "print(output.shape)\n",
    "\n",
    "loss = criterion(output,y_tensor)\n",
    "loss\n",
    "\n"
   ]
  },
  {
   "cell_type": "code",
   "execution_count": 21,
   "metadata": {},
   "outputs": [
    {
     "data": {
      "text/plain": [
       "(167, 15)"
      ]
     },
     "execution_count": 21,
     "metadata": {},
     "output_type": "execute_result"
    }
   ],
   "source": [
    "X_train.shape"
   ]
  },
  {
   "cell_type": "code",
   "execution_count": 22,
   "metadata": {},
   "outputs": [
    {
     "data": {
      "text/plain": [
       "[1, 2, 3, 4, 5, 6, 7, 8, 9, 10, 11, 12, 13, 14]"
      ]
     },
     "execution_count": 22,
     "metadata": {},
     "output_type": "execute_result"
    }
   ],
   "source": [
    "steps = [ i for i in range(1,15)]\n",
    "steps"
   ]
  },
  {
   "cell_type": "code",
   "execution_count": 23,
   "metadata": {},
   "outputs": [],
   "source": [
    "import matplotlib.pyplot as plt\n",
    "\n",
    "steps = [ i for i in range(1,15)]\n",
    "steps = np.array(steps)\n",
    "\n",
    "def train(rnn, n_epochs):\n",
    "    \n",
    "    hidden = None\n",
    "    \n",
    "    \n",
    "    for i in range(n_epochs):\n",
    "        \n",
    "        index = random.randint(0,len(X_train))\n",
    "        \n",
    "        \n",
    "        X = X_train[index]\n",
    "        \n",
    "        X.resize((seq_length,1))\n",
    "        \n",
    "        x = X [ : -1]\n",
    "        x_tensor= X [ : -1]\n",
    "        y_tensor = X[ 1: ]\n",
    "        \n",
    "        x_tensor = torch.Tensor(x_tensor).unsqueeze(0)\n",
    "        y_tensor = torch.Tensor(y_tensor)\n",
    "        \n",
    "        output,hidden = rnn(x_tensor,hidden)\n",
    "        \n",
    "        hidden = hidden.data\n",
    "        \n",
    "        loss = criterion(output,y_tensor)\n",
    "        \n",
    "        optimizer.zero_grad()\n",
    "        loss.backward()\n",
    "        \n",
    "        optimizer.step()\n",
    "        \n",
    "        \n",
    "        print('epoch {}, loss {}'.format(i,loss.item()))\n",
    "        plt.plot(steps,x_tensor.data.numpy().flatten(),'r.')\n",
    "        plt.plot(steps,y_tensor.data.numpy().flatten(),'b.')\n",
    "    \n",
    "        plt.show()\n",
    "\n",
    "        \n",
    "    return rnn\n",
    "        "
   ]
  },
  {
   "cell_type": "code",
   "execution_count": 24,
   "metadata": {},
   "outputs": [
    {
     "name": "stdout",
     "output_type": "stream",
     "text": [
      "epoch 0, loss 0.027191076427698135\n"
     ]
    },
    {
     "data": {
      "image/png": "[encoded data removed]",
      "text/plain": [
       "<Figure size 432x288 with 1 Axes>"
      ]
     },
     "metadata": {
      "needs_background": "light"
     },
     "output_type": "display_data"
    },
    {
     "name": "stdout",
     "output_type": "stream",
     "text": [
      "epoch 1, loss 0.0039028471801429987\n"
     ]
    },
    {
     "data": {
      "image/png": "[encoded data removed]",
      "text/plain": [
       "<Figure size 432x288 with 1 Axes>"
      ]
     },
     "metadata": {
      "needs_background": "light"
     },
     "output_type": "display_data"
    },
    {
     "name": "stdout",
     "output_type": "stream",
     "text": [
      "epoch 2, loss 0.022062603384256363\n"
     ]
    },
    {
     "data": {
      "image/png": "[encoded data removed]",
      "text/plain": [
       "<Figure size 432x288 with 1 Axes>"
      ]
     },
     "metadata": {
      "needs_background": "light"
     },
     "output_type": "display_data"
    },
    {
     "name": "stdout",
     "output_type": "stream",
     "text": [
      "epoch 3, loss 0.15733098983764648\n"
     ]
    },
    {
     "data": {
      "image/png": "[encoded data removed]",
      "text/plain": [
       "<Figure size 432x288 with 1 Axes>"
      ]
     },
     "metadata": {
      "needs_background": "light"
     },
     "output_type": "display_data"
    },
    {
     "name": "stdout",
     "output_type": "stream",
     "text": [
      "epoch 4, loss 0.0014523437712341547\n"
     ]
    },
    {
     "data": {
      "image/png": "[encoded data removed]",
      "text/plain": [
       "<Figure size 432x288 with 1 Axes>"
      ]
     },
     "metadata": {
      "needs_background": "light"
     },
     "output_type": "display_data"
    },
    {
     "name": "stdout",
     "output_type": "stream",
     "text": [
      "epoch 5, loss 0.014600085094571114\n"
     ]
    },
    {
     "data": {
      "image/png": "[encoded data removed]",
      "text/plain": [
       "<Figure size 432x288 with 1 Axes>"
      ]
     },
     "metadata": {
      "needs_background": "light"
     },
     "output_type": "display_data"
    },
    {
     "name": "stdout",
     "output_type": "stream",
     "text": [
      "epoch 6, loss 0.06473806500434875\n"
     ]
    },
    {
     "data": {
      "image/png": "[encoded data removed]",
      "text/plain": [
       "<Figure size 432x288 with 1 Axes>"
      ]
     },
     "metadata": {
      "needs_background": "light"
     },
     "output_type": "display_data"
    },
    {
     "name": "stdout",
     "output_type": "stream",
     "text": [
      "epoch 7, loss 0.21701720356941223\n"
     ]
    },
    {
     "data": {
      "image/png": "[encoded data removed]",
      "text/plain": [
       "<Figure size 432x288 with 1 Axes>"
      ]
     },
     "metadata": {
      "needs_background": "light"
     },
     "output_type": "display_data"
    },
    {
     "name": "stdout",
     "output_type": "stream",
     "text": [
      "epoch 8, loss 0.014369265176355839\n"
     ]
    },
    {
     "data": {
      "image/png": "[encoded data removed]",
      "text/plain": [
       "<Figure size 432x288 with 1 Axes>"
      ]
     },
     "metadata": {
      "needs_background": "light"
     },
     "output_type": "display_data"
    },
    {
     "name": "stdout",
     "output_type": "stream",
     "text": [
      "epoch 9, loss 0.0719621479511261\n"
     ]
    },
    {
     "data": {
      "image/png": "[encoded data removed]",
      "text/plain": [
       "<Figure size 432x288 with 1 Axes>"
      ]
     },
     "metadata": {
      "needs_background": "light"
     },
     "output_type": "display_data"
    },
    {
     "name": "stdout",
     "output_type": "stream",
     "text": [
      "epoch 10, loss 0.047960568219423294\n"
     ]
    },
    {
     "data": {
      "image/png": "[encoded data removed]",
      "text/plain": [
       "<Figure size 432x288 with 1 Axes>"
      ]
     },
     "metadata": {
      "needs_background": "light"
     },
     "output_type": "display_data"
    },
    {
     "name": "stdout",
     "output_type": "stream",
     "text": [
      "epoch 11, loss 0.01635606214404106\n"
     ]
    },
    {
     "data": {
      "image/png": "[encoded data removed]",
      "text/plain": [
       "<Figure size 432x288 with 1 Axes>"
      ]
     },
     "metadata": {
      "needs_background": "light"
     },
     "output_type": "display_data"
    },
    {
     "name": "stdout",
     "output_type": "stream",
     "text": [
      "epoch 12, loss 0.006683050189167261\n"
     ]
    },
    {
     "data": {
      "image/png": "[encoded data removed]",
      "text/plain": [
       "<Figure size 432x288 with 1 Axes>"
      ]
     },
     "metadata": {
      "needs_background": "light"
     },
     "output_type": "display_data"
    },
    {
     "name": "stdout",
     "output_type": "stream",
     "text": [
      "epoch 13, loss 0.017749566584825516\n"
     ]
    },
    {
     "data": {
      "image/png": "[encoded data removed]",
      "text/plain": [
       "<Figure size 432x288 with 1 Axes>"
      ]
     },
     "metadata": {
      "needs_background": "light"
     },
     "output_type": "display_data"
    },
    {
     "name": "stdout",
     "output_type": "stream",
     "text": [
      "epoch 14, loss 0.0103201474994421\n"
     ]
    },
    {
     "data": {
      "image/png": "[encoded data removed]",
      "text/plain": [
       "<Figure size 432x288 with 1 Axes>"
      ]
     },
     "metadata": {
      "needs_background": "light"
     },
     "output_type": "display_data"
    },
    {
     "name": "stdout",
     "output_type": "stream",
     "text": [
      "epoch 15, loss 0.01582380197942257\n"
     ]
    },
    {
     "data": {
      "image/png": "[encoded data removed]",
      "text/plain": [
       "<Figure size 432x288 with 1 Axes>"
      ]
     },
     "metadata": {
      "needs_background": "light"
     },
     "output_type": "display_data"
    },
    {
     "name": "stdout",
     "output_type": "stream",
     "text": [
      "epoch 16, loss 0.23792961239814758\n"
     ]
    },
    {
     "data": {
      "image/png": "[encoded data removed]",
      "text/plain": [
       "<Figure size 432x288 with 1 Axes>"
      ]
     },
     "metadata": {
      "needs_background": "light"
     },
     "output_type": "display_data"
    },
    {
     "name": "stdout",
     "output_type": "stream",
     "text": [
      "epoch 17, loss 0.023470649495720863\n"
     ]
    },
    {
     "data": {
      "image/png": "[encoded data removed]",
      "text/plain": [
       "<Figure size 432x288 with 1 Axes>"
      ]
     },
     "metadata": {
      "needs_background": "light"
     },
     "output_type": "display_data"
    },
    {
     "name": "stdout",
     "output_type": "stream",
     "text": [
      "epoch 18, loss 0.02296670526266098\n"
     ]
    },
    {
     "data": {
      "image/png": "[encoded data removed]",
      "text/plain": [
       "<Figure size 432x288 with 1 Axes>"
      ]
     },
     "metadata": {
      "needs_background": "light"
     },
     "output_type": "display_data"
    },
    {
     "name": "stdout",
     "output_type": "stream",
     "text": [
      "epoch 19, loss 0.021294383332133293\n"
     ]
    },
    {
     "data": {
      "image/png": "[encoded data removed]",
      "text/plain": [
       "<Figure size 432x288 with 1 Axes>"
      ]
     },
     "metadata": {
      "needs_background": "light"
     },
     "output_type": "display_data"
    }
   ],
   "source": [
    "import random\n",
    "trained_rnn = train(rnn,20)"
   ]
  },
  {
   "cell_type": "code",
   "execution_count": null,
   "metadata": {},
   "outputs": [],
   "source": []
  },
  {
   "cell_type": "code",
   "execution_count": null,
   "metadata": {},
   "outputs": [],
   "source": []
  }
 ],
 "metadata": {
  "kernelspec": {
   "display_name": "Python 3",
   "language": "python",
   "name": "python3"
  },
  "language_info": {
   "codemirror_mode": {
    "name": "ipython",
    "version": 3
   },
   "file_extension": ".py",
   "mimetype": "text/x-python",
   "name": "python",
   "nbconvert_exporter": "python",
   "pygments_lexer": "ipython3",
   "version": "3.6.8"
  }
 },
 "nbformat": 4,
 "nbformat_minor": 2
}
