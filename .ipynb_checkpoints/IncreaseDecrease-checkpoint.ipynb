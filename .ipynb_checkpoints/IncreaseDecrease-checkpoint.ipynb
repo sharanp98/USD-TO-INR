{
 "cells": [
  {
   "cell_type": "code",
   "execution_count": 2,
   "metadata": {},
   "outputs": [],
   "source": [
    "import pandas as pd"
   ]
  },
  {
   "cell_type": "markdown",
   "metadata": {},
   "source": [
    "## DATA OVERVIEW\n"
   ]
  },
  {
   "cell_type": "code",
   "execution_count": 7,
   "metadata": {},
   "outputs": [
    {
     "data": {
      "text/html": [
       "<div>\n",
       "<style scoped>\n",
       "    .dataframe tbody tr th:only-of-type {\n",
       "        vertical-align: middle;\n",
       "    }\n",
       "\n",
       "    .dataframe tbody tr th {\n",
       "        vertical-align: top;\n",
       "    }\n",
       "\n",
       "    .dataframe thead th {\n",
       "        text-align: right;\n",
       "    }\n",
       "</style>\n",
       "<table border=\"1\" class=\"dataframe\">\n",
       "  <thead>\n",
       "    <tr style=\"text-align: right;\">\n",
       "      <th></th>\n",
       "      <th>Date</th>\n",
       "      <th>Price</th>\n",
       "      <th>Open</th>\n",
       "      <th>High</th>\n",
       "      <th>Low</th>\n",
       "    </tr>\n",
       "  </thead>\n",
       "  <tbody>\n",
       "    <tr>\n",
       "      <td>0</td>\n",
       "      <td>Sep 14, 2018</td>\n",
       "      <td>71.880</td>\n",
       "      <td>71.700</td>\n",
       "      <td>71.995</td>\n",
       "      <td>71.535</td>\n",
       "    </tr>\n",
       "    <tr>\n",
       "      <td>1</td>\n",
       "      <td>Sep 17, 2018</td>\n",
       "      <td>72.540</td>\n",
       "      <td>72.530</td>\n",
       "      <td>72.695</td>\n",
       "      <td>72.315</td>\n",
       "    </tr>\n",
       "    <tr>\n",
       "      <td>2</td>\n",
       "      <td>Sep 18, 2018</td>\n",
       "      <td>72.710</td>\n",
       "      <td>72.560</td>\n",
       "      <td>72.990</td>\n",
       "      <td>72.360</td>\n",
       "    </tr>\n",
       "    <tr>\n",
       "      <td>3</td>\n",
       "      <td>Sep 19, 2018</td>\n",
       "      <td>72.360</td>\n",
       "      <td>72.720</td>\n",
       "      <td>72.875</td>\n",
       "      <td>72.345</td>\n",
       "    </tr>\n",
       "    <tr>\n",
       "      <td>4</td>\n",
       "      <td>Sep 20, 2018</td>\n",
       "      <td>72.015</td>\n",
       "      <td>72.345</td>\n",
       "      <td>72.345</td>\n",
       "      <td>72.015</td>\n",
       "    </tr>\n",
       "  </tbody>\n",
       "</table>\n",
       "</div>"
      ],
      "text/plain": [
       "           Date   Price    Open    High     Low\n",
       "0  Sep 14, 2018  71.880  71.700  71.995  71.535\n",
       "1  Sep 17, 2018  72.540  72.530  72.695  72.315\n",
       "2  Sep 18, 2018  72.710  72.560  72.990  72.360\n",
       "3  Sep 19, 2018  72.360  72.720  72.875  72.345\n",
       "4  Sep 20, 2018  72.015  72.345  72.345  72.015"
      ]
     },
     "execution_count": 7,
     "metadata": {},
     "output_type": "execute_result"
    }
   ],
   "source": [
    "data = pd.read_csv(\"usdinr.csv\")\n",
    "data.head()"
   ]
  },
  {
   "cell_type": "code",
   "execution_count": 8,
   "metadata": {},
   "outputs": [
    {
     "name": "stdout",
     "output_type": "stream",
     "text": [
      "<class 'pandas.core.frame.DataFrame'>\n",
      "RangeIndex: 261 entries, 0 to 260\n",
      "Data columns (total 5 columns):\n",
      "Date     261 non-null object\n",
      "Price    261 non-null float64\n",
      "Open     261 non-null float64\n",
      "High     261 non-null float64\n",
      "Low      261 non-null float64\n",
      "dtypes: float64(4), object(1)\n",
      "memory usage: 10.3+ KB\n"
     ]
    }
   ],
   "source": [
    "data.info()"
   ]
  },
  {
   "cell_type": "markdown",
   "metadata": {},
   "source": [
    "## Data Preprocessing"
   ]
  },
  {
   "cell_type": "code",
   "execution_count": 33,
   "metadata": {},
   "outputs": [],
   "source": [
    "import datetime \n",
    "\n",
    "# Converting date to correct format.\n",
    "\n",
    "def handle_date(date):\n",
    "    entity_list = date.split(' ')\n",
    "    \n",
    "    entity_list[1] = entity_list[1][0:2]\n",
    "    date_string = entity_list[0] + ' ' + entity_list[1] + ' ' + entity_list[2]\n",
    "    datetime_object = datetime.datetime.strptime(date_string, '%b %d %Y')\n",
    "    return datetime_object\n",
    "\n",
    "\n",
    "data['Date']=data['Date'].apply(lambda date : handle_date(date) )"
   ]
  },
  {
   "cell_type": "code",
   "execution_count": 34,
   "metadata": {},
   "outputs": [
    {
     "data": {
      "text/html": [
       "<div>\n",
       "<style scoped>\n",
       "    .dataframe tbody tr th:only-of-type {\n",
       "        vertical-align: middle;\n",
       "    }\n",
       "\n",
       "    .dataframe tbody tr th {\n",
       "        vertical-align: top;\n",
       "    }\n",
       "\n",
       "    .dataframe thead th {\n",
       "        text-align: right;\n",
       "    }\n",
       "</style>\n",
       "<table border=\"1\" class=\"dataframe\">\n",
       "  <thead>\n",
       "    <tr style=\"text-align: right;\">\n",
       "      <th></th>\n",
       "      <th>Date</th>\n",
       "      <th>Price</th>\n",
       "      <th>Open</th>\n",
       "      <th>High</th>\n",
       "      <th>Low</th>\n",
       "    </tr>\n",
       "  </thead>\n",
       "  <tbody>\n",
       "    <tr>\n",
       "      <td>0</td>\n",
       "      <td>2018-09-14</td>\n",
       "      <td>71.880</td>\n",
       "      <td>71.700</td>\n",
       "      <td>71.995</td>\n",
       "      <td>71.535</td>\n",
       "    </tr>\n",
       "    <tr>\n",
       "      <td>1</td>\n",
       "      <td>2018-09-17</td>\n",
       "      <td>72.540</td>\n",
       "      <td>72.530</td>\n",
       "      <td>72.695</td>\n",
       "      <td>72.315</td>\n",
       "    </tr>\n",
       "    <tr>\n",
       "      <td>2</td>\n",
       "      <td>2018-09-18</td>\n",
       "      <td>72.710</td>\n",
       "      <td>72.560</td>\n",
       "      <td>72.990</td>\n",
       "      <td>72.360</td>\n",
       "    </tr>\n",
       "    <tr>\n",
       "      <td>3</td>\n",
       "      <td>2018-09-19</td>\n",
       "      <td>72.360</td>\n",
       "      <td>72.720</td>\n",
       "      <td>72.875</td>\n",
       "      <td>72.345</td>\n",
       "    </tr>\n",
       "    <tr>\n",
       "      <td>4</td>\n",
       "      <td>2018-09-20</td>\n",
       "      <td>72.015</td>\n",
       "      <td>72.345</td>\n",
       "      <td>72.345</td>\n",
       "      <td>72.015</td>\n",
       "    </tr>\n",
       "  </tbody>\n",
       "</table>\n",
       "</div>"
      ],
      "text/plain": [
       "        Date   Price    Open    High     Low\n",
       "0 2018-09-14  71.880  71.700  71.995  71.535\n",
       "1 2018-09-17  72.540  72.530  72.695  72.315\n",
       "2 2018-09-18  72.710  72.560  72.990  72.360\n",
       "3 2018-09-19  72.360  72.720  72.875  72.345\n",
       "4 2018-09-20  72.015  72.345  72.345  72.015"
      ]
     },
     "execution_count": 34,
     "metadata": {},
     "output_type": "execute_result"
    }
   ],
   "source": [
    "data.head()"
   ]
  },
  {
   "cell_type": "code",
   "execution_count": null,
   "metadata": {},
   "outputs": [],
   "source": []
  }
 ],
 "metadata": {
  "kernelspec": {
   "display_name": "Python 3",
   "language": "python",
   "name": "python3"
  },
  "language_info": {
   "codemirror_mode": {
    "name": "ipython",
    "version": 3
   },
   "file_extension": ".py",
   "mimetype": "text/x-python",
   "name": "python",
   "nbconvert_exporter": "python",
   "pygments_lexer": "ipython3",
   "version": "3.7.4"
  }
 },
 "nbformat": 4,
 "nbformat_minor": 2
}
