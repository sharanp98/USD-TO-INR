{
 "cells": [
  {
   "cell_type": "code",
   "execution_count": 15,
   "metadata": {},
   "outputs": [],
   "source": [
    "import pandas as pd\n",
    "import numpy as np\n",
    "from sklearn import linear_model\n",
    "from sklearn.model_selection import train_test_split\n",
    "from sklearn.metrics import mean_squared_error\n",
    "from sklearn.metrics import r2_score\n",
    "import matplotlib.pyplot as plt\n",
    "import seaborn as sns"
   ]
  },
  {
   "cell_type": "code",
   "execution_count": null,
   "metadata": {},
   "outputs": [],
   "source": []
  },
  {
   "cell_type": "code",
   "execution_count": 16,
   "metadata": {},
   "outputs": [
    {
     "data": {
      "text/html": [
       "<div>\n",
       "<style scoped>\n",
       "    .dataframe tbody tr th:only-of-type {\n",
       "        vertical-align: middle;\n",
       "    }\n",
       "\n",
       "    .dataframe tbody tr th {\n",
       "        vertical-align: top;\n",
       "    }\n",
       "\n",
       "    .dataframe thead th {\n",
       "        text-align: right;\n",
       "    }\n",
       "</style>\n",
       "<table border=\"1\" class=\"dataframe\">\n",
       "  <thead>\n",
       "    <tr style=\"text-align: right;\">\n",
       "      <th></th>\n",
       "      <th>InterestRate</th>\n",
       "      <th>CPI</th>\n",
       "      <th>ExportImportRatio</th>\n",
       "      <th>USDTOINR</th>\n",
       "    </tr>\n",
       "  </thead>\n",
       "  <tbody>\n",
       "    <tr>\n",
       "      <th>InterestRate</th>\n",
       "      <td>1.000000</td>\n",
       "      <td>0.012092</td>\n",
       "      <td>0.117362</td>\n",
       "      <td>0.156069</td>\n",
       "    </tr>\n",
       "    <tr>\n",
       "      <th>CPI</th>\n",
       "      <td>0.012092</td>\n",
       "      <td>1.000000</td>\n",
       "      <td>0.171841</td>\n",
       "      <td>0.964674</td>\n",
       "    </tr>\n",
       "    <tr>\n",
       "      <th>ExportImportRatio</th>\n",
       "      <td>0.117362</td>\n",
       "      <td>0.171841</td>\n",
       "      <td>1.000000</td>\n",
       "      <td>0.234697</td>\n",
       "    </tr>\n",
       "    <tr>\n",
       "      <th>USDTOINR</th>\n",
       "      <td>0.156069</td>\n",
       "      <td>0.964674</td>\n",
       "      <td>0.234697</td>\n",
       "      <td>1.000000</td>\n",
       "    </tr>\n",
       "  </tbody>\n",
       "</table>\n",
       "</div>"
      ],
      "text/plain": [
       "                   InterestRate       CPI  ExportImportRatio  USDTOINR\n",
       "InterestRate           1.000000  0.012092           0.117362  0.156069\n",
       "CPI                    0.012092  1.000000           0.171841  0.964674\n",
       "ExportImportRatio      0.117362  0.171841           1.000000  0.234697\n",
       "USDTOINR               0.156069  0.964674           0.234697  1.000000"
      ]
     },
     "execution_count": 16,
     "metadata": {},
     "output_type": "execute_result"
    },
    {
     "data": {
      "image/png": "[encoded data removed]",
      "text/plain": [
       "<Figure size 432x288 with 2 Axes>"
      ]
     },
     "metadata": {
      "needs_background": "light"
     },
     "output_type": "display_data"
    }
   ],
   "source": [
    "df = pd.read_csv('dataset.csv',engine='c',parse_dates=['DATE'])\n",
    "corr = df.corr()\n",
    "ax = sns.heatmap(\n",
    "    corr, \n",
    "    vmin=-1, vmax=1, center=0,\n",
    "    cmap=sns.diverging_palette(20, 220, n=200),\n",
    "    square=True\n",
    ")\n",
    "ax.set_xticklabels(\n",
    "    ax.get_xticklabels(),\n",
    "    rotation=45,\n",
    "    horizontalalignment='right'\n",
    ")\n",
    "corr"
   ]
  },
  {
   "cell_type": "code",
   "execution_count": 17,
   "metadata": {},
   "outputs": [],
   "source": [
    "df.DATE = df.DATE.astype(np.int64)"
   ]
  },
  {
   "cell_type": "code",
   "execution_count": 18,
   "metadata": {},
   "outputs": [
    {
     "data": {
      "text/html": [
       "<div>\n",
       "<style scoped>\n",
       "    .dataframe tbody tr th:only-of-type {\n",
       "        vertical-align: middle;\n",
       "    }\n",
       "\n",
       "    .dataframe tbody tr th {\n",
       "        vertical-align: top;\n",
       "    }\n",
       "\n",
       "    .dataframe thead th {\n",
       "        text-align: right;\n",
       "    }\n",
       "</style>\n",
       "<table border=\"1\" class=\"dataframe\">\n",
       "  <thead>\n",
       "    <tr style=\"text-align: right;\">\n",
       "      <th></th>\n",
       "      <th>DATE</th>\n",
       "      <th>InterestRate</th>\n",
       "      <th>CPI</th>\n",
       "      <th>ExportImportRatio</th>\n",
       "      <th>USDTOINR</th>\n",
       "    </tr>\n",
       "  </thead>\n",
       "  <tbody>\n",
       "    <tr>\n",
       "      <th>0</th>\n",
       "      <td>1262304000000000000</td>\n",
       "      <td>6.0</td>\n",
       "      <td>65.795346</td>\n",
       "      <td>61.570824</td>\n",
       "      <td>45.8944</td>\n",
       "    </tr>\n",
       "    <tr>\n",
       "      <th>1</th>\n",
       "      <td>1264982400000000000</td>\n",
       "      <td>6.0</td>\n",
       "      <td>65.030284</td>\n",
       "      <td>60.227108</td>\n",
       "      <td>46.2732</td>\n",
       "    </tr>\n",
       "    <tr>\n",
       "      <th>2</th>\n",
       "      <td>1267401600000000000</td>\n",
       "      <td>6.0</td>\n",
       "      <td>65.030284</td>\n",
       "      <td>68.363886</td>\n",
       "      <td>45.4509</td>\n",
       "    </tr>\n",
       "    <tr>\n",
       "      <th>3</th>\n",
       "      <td>1270080000000000000</td>\n",
       "      <td>6.0</td>\n",
       "      <td>65.030284</td>\n",
       "      <td>57.266479</td>\n",
       "      <td>44.4440</td>\n",
       "    </tr>\n",
       "    <tr>\n",
       "      <th>4</th>\n",
       "      <td>1272672000000000000</td>\n",
       "      <td>6.0</td>\n",
       "      <td>65.795346</td>\n",
       "      <td>58.096419</td>\n",
       "      <td>45.7690</td>\n",
       "    </tr>\n",
       "  </tbody>\n",
       "</table>\n",
       "</div>"
      ],
      "text/plain": [
       "                  DATE  InterestRate        CPI  ExportImportRatio  USDTOINR\n",
       "0  1262304000000000000           6.0  65.795346          61.570824   45.8944\n",
       "1  1264982400000000000           6.0  65.030284          60.227108   46.2732\n",
       "2  1267401600000000000           6.0  65.030284          68.363886   45.4509\n",
       "3  1270080000000000000           6.0  65.030284          57.266479   44.4440\n",
       "4  1272672000000000000           6.0  65.795346          58.096419   45.7690"
      ]
     },
     "execution_count": 18,
     "metadata": {},
     "output_type": "execute_result"
    }
   ],
   "source": [
    "df.head()"
   ]
  },
  {
   "cell_type": "code",
   "execution_count": 19,
   "metadata": {},
   "outputs": [
    {
     "data": {
      "text/plain": [
       "['DATE', 'InterestRate', 'CPI', 'ExportImportRatio', 'USDTOINR']"
      ]
     },
     "execution_count": 19,
     "metadata": {},
     "output_type": "execute_result"
    }
   ],
   "source": [
    "list(df.columns)"
   ]
  },
  {
   "cell_type": "code",
   "execution_count": null,
   "metadata": {},
   "outputs": [],
   "source": []
  },
  {
   "cell_type": "code",
   "execution_count": 20,
   "metadata": {},
   "outputs": [],
   "source": [
    "ls = []\n",
    "def date_vs_features(date,feature):\n",
    "    \n",
    "    date = pd.to_datetime(pd.Series([date])).astype(np.int64)\n",
    "\n",
    "    X = pd.DataFrame(df['DATE']).values\n",
    "    y = pd.DataFrame(df[feature]).values\n",
    "\n",
    "    X_train,X_test,y_train,y_test = train_test_split(X,y,test_size=0.2,random_state=62)\n",
    "\n",
    "    reg = linear_model.LinearRegression()\n",
    "\n",
    "    reg.fit(X_train,y_train)\n",
    "\n",
    "    ls.append(reg.predict (np.array([date]).reshape(1,-1))[0][0])\n",
    "    \n",
    "def predict_USD(date):\n",
    "    \n",
    "    col = list(df.columns)[2]\n",
    "    date_vs_features(date,col)\n",
    "\n",
    "    CPI = ls[0]\n",
    "    \n",
    "    date = pd.to_datetime(pd.Series([date])).astype(np.int64)\n",
    "\n",
    "    X = df[['DATE','CPI']].values\n",
    "    y = pd.DataFrame(df['USDTOINR']).values\n",
    "\n",
    "\n",
    "    X_train,X_test,y_train,y_test = train_test_split(X,y,test_size=0.2,random_state=62)\n",
    "\n",
    "    reg = linear_model.LinearRegression()\n",
    "\n",
    "    reg.fit(X_train,y_train)\n",
    "\n",
    "    y_pred = reg.predict(X_test)\n",
    "    \n",
    "    plt.scatter(X[:,0],y[:,0])\n",
    "    plt.plot(X_test[:,0],y_pred[:,0],'-r')\n",
    "    plt.title('Graph')\n",
    "    plt.xlabel('Date')\n",
    "    plt.ylabel('USD-INR')\n",
    "    \n",
    "    print (\"Loss : \",round((mean_squared_error(y_test,y_pred)),2))\n",
    "    print (\"Accuracy : \",round((r2_score(y_test,y_pred)*100),2),'%')\n",
    "    \n",
    "    USD = reg.predict (np.array([date,CPI]).reshape(1,-1))\n",
    "    \n",
    "    return \"Prediction : 1 USD = \" + str(round(USD[0][0],2)) + \" INR\""
   ]
  },
  {
   "cell_type": "code",
   "execution_count": null,
   "metadata": {},
   "outputs": [],
   "source": []
  },
  {
   "cell_type": "code",
   "execution_count": 21,
   "metadata": {},
   "outputs": [
    {
     "name": "stdout",
     "output_type": "stream",
     "text": [
      "Loss :  5.27\n",
      "Accuracy :  92.26 %\n",
      "Prediction : 1 USD = 74.67 INR\n"
     ]
    },
    {
     "data": {
      "image/png": "[encoded data removed]",
      "text/plain": [
       "<Figure size 432x288 with 1 Axes>"
      ]
     },
     "metadata": {
      "needs_background": "light"
     },
     "output_type": "display_data"
    }
   ],
   "source": [
    "print (predict_USD('2019-11-12'))"
   ]
  },
  {
   "cell_type": "code",
   "execution_count": null,
   "metadata": {},
   "outputs": [],
   "source": []
  }
 ],
 "metadata": {
  "kernelspec": {
   "display_name": "Python 3",
   "language": "python",
   "name": "python3"
  },
  "language_info": {
   "codemirror_mode": {
    "name": "ipython",
    "version": 3
   },
   "file_extension": ".py",
   "mimetype": "text/x-python",
   "name": "python",
   "nbconvert_exporter": "python",
   "pygments_lexer": "ipython3",
   "version": "3.6.8"
  }
 },
 "nbformat": 4,
 "nbformat_minor": 2
}
