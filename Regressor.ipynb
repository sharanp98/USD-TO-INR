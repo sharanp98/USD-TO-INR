{
 "cells": [
  {
   "cell_type": "code",
   "execution_count": 12,
   "metadata": {},
   "outputs": [],
   "source": [
    "import pandas as pd\n",
    "import numpy as np\n",
    "from sklearn import linear_model\n",
    "from sklearn.model_selection import train_test_split\n",
    "from sklearn.metrics import r2_score\n",
    "import matplotlib.pyplot as plt\n",
    "import matplotlib.axes as axes"
   ]
  },
  {
   "cell_type": "code",
   "execution_count": 13,
   "metadata": {},
   "outputs": [],
   "source": [
    "df = pd.read_csv('dataset.csv',engine='c',parse_dates=['DATE'])"
   ]
  },
  {
   "cell_type": "code",
   "execution_count": 14,
   "metadata": {},
   "outputs": [],
   "source": [
    "df.DATE = df.DATE.astype(np.int64)"
   ]
  },
  {
   "cell_type": "code",
   "execution_count": 15,
   "metadata": {},
   "outputs": [
    {
     "data": {
      "text/html": [
       "<div>\n",
       "<style scoped>\n",
       "    .dataframe tbody tr th:only-of-type {\n",
       "        vertical-align: middle;\n",
       "    }\n",
       "\n",
       "    .dataframe tbody tr th {\n",
       "        vertical-align: top;\n",
       "    }\n",
       "\n",
       "    .dataframe thead th {\n",
       "        text-align: right;\n",
       "    }\n",
       "</style>\n",
       "<table border=\"1\" class=\"dataframe\">\n",
       "  <thead>\n",
       "    <tr style=\"text-align: right;\">\n",
       "      <th></th>\n",
       "      <th>DATE</th>\n",
       "      <th>InterestRate</th>\n",
       "      <th>CPI</th>\n",
       "      <th>ExportImportRatio</th>\n",
       "      <th>USDTOINR</th>\n",
       "    </tr>\n",
       "  </thead>\n",
       "  <tbody>\n",
       "    <tr>\n",
       "      <th>0</th>\n",
       "      <td>1262304000000000000</td>\n",
       "      <td>6.0</td>\n",
       "      <td>65.795346</td>\n",
       "      <td>61.570824</td>\n",
       "      <td>45.8944</td>\n",
       "    </tr>\n",
       "    <tr>\n",
       "      <th>1</th>\n",
       "      <td>1264982400000000000</td>\n",
       "      <td>6.0</td>\n",
       "      <td>65.030284</td>\n",
       "      <td>60.227108</td>\n",
       "      <td>46.2732</td>\n",
       "    </tr>\n",
       "    <tr>\n",
       "      <th>2</th>\n",
       "      <td>1267401600000000000</td>\n",
       "      <td>6.0</td>\n",
       "      <td>65.030284</td>\n",
       "      <td>68.363886</td>\n",
       "      <td>45.4509</td>\n",
       "    </tr>\n",
       "    <tr>\n",
       "      <th>3</th>\n",
       "      <td>1270080000000000000</td>\n",
       "      <td>6.0</td>\n",
       "      <td>65.030284</td>\n",
       "      <td>57.266479</td>\n",
       "      <td>44.4440</td>\n",
       "    </tr>\n",
       "    <tr>\n",
       "      <th>4</th>\n",
       "      <td>1272672000000000000</td>\n",
       "      <td>6.0</td>\n",
       "      <td>65.795346</td>\n",
       "      <td>58.096419</td>\n",
       "      <td>45.7690</td>\n",
       "    </tr>\n",
       "  </tbody>\n",
       "</table>\n",
       "</div>"
      ],
      "text/plain": [
       "                  DATE  InterestRate        CPI  ExportImportRatio  USDTOINR\n",
       "0  1262304000000000000           6.0  65.795346          61.570824   45.8944\n",
       "1  1264982400000000000           6.0  65.030284          60.227108   46.2732\n",
       "2  1267401600000000000           6.0  65.030284          68.363886   45.4509\n",
       "3  1270080000000000000           6.0  65.030284          57.266479   44.4440\n",
       "4  1272672000000000000           6.0  65.795346          58.096419   45.7690"
      ]
     },
     "execution_count": 15,
     "metadata": {},
     "output_type": "execute_result"
    }
   ],
   "source": [
    "df.head()"
   ]
  },
  {
   "cell_type": "code",
   "execution_count": 16,
   "metadata": {},
   "outputs": [],
   "source": [
    "ls = []\n",
    "def date_vs_features(date,feature):\n",
    "    \n",
    "    date = pd.to_datetime(pd.Series([date])).astype(np.int64)\n",
    "\n",
    "    X = pd.DataFrame(df['DATE']).values\n",
    "    y = pd.DataFrame(df[feature]).values\n",
    "\n",
    "\n",
    "    X_train,X_test,y_train,y_test = train_test_split(X,y,test_size=0.2,random_state=0)\n",
    "\n",
    "    reg = linear_model.LinearRegression()\n",
    "\n",
    "    reg.fit(X_train,y_train)\n",
    "\n",
    "    ls.append(reg.predict (np.array([date]).reshape(1,-1))[0][0])"
   ]
  },
  {
   "cell_type": "code",
   "execution_count": null,
   "metadata": {},
   "outputs": [],
   "source": []
  },
  {
   "cell_type": "code",
   "execution_count": 17,
   "metadata": {},
   "outputs": [],
   "source": [
    "def predict_USD(date):\n",
    "    \n",
    "    cols = list(df.columns)[1:4]\n",
    "    for i in cols:\n",
    "        date_vs_features(date,i)\n",
    "\n",
    "    InterestRate,CPI,ExportImportRatio = ls\n",
    "    \n",
    "    date = pd.to_datetime(pd.Series([date])).astype(np.int64)\n",
    "\n",
    "    X = df.drop('USDTOINR',axis=1).values\n",
    "    y = pd.DataFrame(df['USDTOINR']).values\n",
    "\n",
    "\n",
    "    X_train,X_test,y_train,y_test = train_test_split(X,y,test_size=0.2,random_state=0)\n",
    "\n",
    "    reg = linear_model.LinearRegression()\n",
    "\n",
    "    reg.fit(X_train,y_train)\n",
    "    \n",
    "#   y_pred = reg.predict (np.array([1272672000000000000,6.0,65.795346,58.096419]).reshape(1,-1))\n",
    "\n",
    "    y_pred = reg.predict(X_test)\n",
    "    \n",
    "    plt.scatter(X[:,0],y[:,0])\n",
    "    plt.plot(X_test[:,0],y_pred[:,0],'-r')\n",
    "    plt.title('Graph')\n",
    "    plt.xlabel('Date')\n",
    "    plt.ylabel('USD-INR')\n",
    "    \n",
    "    print (\"Accuracy : \",round((r2_score(y_test,y_pred)*100),2),'%')\n",
    "    \n",
    "    USD = reg.predict (np.array([date,InterestRate,CPI,ExportImportRatio]).reshape(1,-1))\n",
    "    \n",
    "    return \"Prediction : 1 USD = \" + str(round(USD[0][0],2)) + \" INR\""
   ]
  },
  {
   "cell_type": "code",
   "execution_count": 18,
   "metadata": {},
   "outputs": [
    {
     "name": "stdout",
     "output_type": "stream",
     "text": [
      "Accuracy :  91.04 %\n",
      "Prediction : 1 USD = 74.51 INR\n"
     ]
    },
    {
     "data": {
      "image/png": "[encoded data removed]",
      "text/plain": [
       "<Figure size 432x288 with 1 Axes>"
      ]
     },
     "metadata": {
      "needs_background": "light"
     },
     "output_type": "display_data"
    }
   ],
   "source": [
    "print (predict_USD('2019-11-08'))"
   ]
  },
  {
   "cell_type": "code",
   "execution_count": null,
   "metadata": {},
   "outputs": [],
   "source": []
  }
 ],
 "metadata": {
  "kernelspec": {
   "display_name": "Python 3",
   "language": "python",
   "name": "python3"
  },
  "language_info": {
   "codemirror_mode": {
    "name": "ipython",
    "version": 3
   },
   "file_extension": ".py",
   "mimetype": "text/x-python",
   "name": "python",
   "nbconvert_exporter": "python",
   "pygments_lexer": "ipython3",
   "version": "3.6.8"
  }
 },
 "nbformat": 4,
 "nbformat_minor": 2
}
